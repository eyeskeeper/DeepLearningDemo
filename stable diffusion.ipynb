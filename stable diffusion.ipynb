{
 "cells": [
  {
   "cell_type": "code",
   "execution_count": 3,
   "id": "2fc91373",
   "metadata": {},
   "outputs": [],
   "source": [
    "#coding=utf8\n",
    "import numpy as np\n",
    "import torch\n",
    "import PIL\n",
    "from PIL import Image\n",
    "\n",
    "\n",
    "#载入图片\n",
    "def load_image(path):\n",
    "    image = Image.open(path).convert(\"RGB\")\n",
    "    image = np.array(image).astype(np.float32) / 255.0   #(512, 512, 3)\n",
    "    image = image[None].transpose(0, 3, 1, 2)           # (1, 3, 512, 512)\n",
    "    image = torch.from_numpy(image)\n",
    "    return 2.*image - 1.\n",
    "\n",
    "#保存图片\n",
    "def save_image(samples, path):     \n",
    "    samples = 255 * (samples/2+0.5).clamp(0,1)    # (1, 3, 512, 512)\n",
    "    samples = samples.detach().numpy()\n",
    "    samples = samples.transpose(0, 2, 3, 1)       #(1, 512, 512, 3)\n",
    "    image = samples[0]                            #(512, 512, 3)\n",
    "    image = Image.fromarray(image.astype(np.uint8))\n",
    "    image.save(path)\n",
    "\n",
    "def test_load_and_save_img():\n",
    "    img = load_image(\"girl.jpg\")\n",
    "    save_image(img, \"girl2.jpg\")\n",
    "\n",
    "test_load_and_save_img()"
   ]
  },
  {
   "cell_type": "markdown",
   "id": "ac730807",
   "metadata": {},
   "source": [
    "### VAE模型\n",
    "下列代码指示VAE模型的使用方法，其中load_vae为根据配置init_config去初始化模型，然后从预训练模型model.ckpt中读取参数，预训练模型的first_stage_model即指代VAE模型。"
   ]
  },
  {
   "cell_type": "code",
   "execution_count": 4,
   "id": "ee348abf",
   "metadata": {},
   "outputs": [
    {
     "ename": "ModuleNotFoundError",
     "evalue": "No module named 'ldm'",
     "output_type": "error",
     "traceback": [
      "\u001b[1;31m---------------------------------------------------------------------------\u001b[0m",
      "\u001b[1;31mModuleNotFoundError\u001b[0m                       Traceback (most recent call last)",
      "Input \u001b[1;32mIn [4]\u001b[0m, in \u001b[0;36m<cell line: 1>\u001b[1;34m()\u001b[0m\n\u001b[1;32m----> 1\u001b[0m \u001b[38;5;28;01mfrom\u001b[39;00m \u001b[38;5;21;01mldm\u001b[39;00m\u001b[38;5;21;01m.\u001b[39;00m\u001b[38;5;21;01mmodels\u001b[39;00m\u001b[38;5;21;01m.\u001b[39;00m\u001b[38;5;21;01mautoencoder\u001b[39;00m \u001b[38;5;28;01mimport\u001b[39;00m AutoencoderKL\n\u001b[0;32m      2\u001b[0m \u001b[38;5;66;03m#VAE模型\u001b[39;00m\n\u001b[0;32m      3\u001b[0m \u001b[38;5;28;01mdef\u001b[39;00m \u001b[38;5;21mload_vae\u001b[39m():\n\u001b[0;32m      4\u001b[0m     \u001b[38;5;66;03m#初始化模型\u001b[39;00m\n",
      "\u001b[1;31mModuleNotFoundError\u001b[0m: No module named 'ldm'"
     ]
    }
   ],
   "source": [
    "from ldm.models.autoencoder import AutoencoderKL\n",
    "#VAE模型\n",
    "def load_vae():\n",
    "    #初始化模型\n",
    "    init_config = {\n",
    "        \"embed_dim\": 4,\n",
    "        \"monitor\": \"val/rec_loss\",\n",
    "        \"ddconfig\":{\n",
    "          \"double_z\": True,\n",
    "          \"z_channels\": 4,\n",
    "          \"resolution\": 256,\n",
    "          \"in_channels\": 3,\n",
    "          \"out_ch\": 3,\n",
    "          \"ch\": 128,\n",
    "          \"ch_mult\":[1,2,4,4],\n",
    "          \"num_res_blocks\": 2,\n",
    "          \"attn_resolutions\": [],\n",
    "          \"dropout\": 0.0,\n",
    "        },\n",
    "        \"lossconfig\":{\n",
    "          \"target\": \"torch.nn.Identity\"\n",
    "        }\n",
    "    }\n",
    "    vae = AutoencoderKL(**init_config)\n",
    "    #加载预训练参数\n",
    "    pl_sd = torch.load(\"model.ckpt\", map_location=\"cpu\")\n",
    "    sd = pl_sd[\"state_dict\"]\n",
    "    model_dict = vae.state_dict()\n",
    "    for k, v in model_dict.items():\n",
    "        model_dict[k] = sd[\"first_stage_model.\"+k]\n",
    "    vae.load_state_dict(model_dict, strict=False)\n",
    "\n",
    "    vae.eval()\n",
    "    return vae\n",
    "\n",
    "#测试vae模型\n",
    "def test_vae():\n",
    "    vae = load_vae()\n",
    "    img = load_image(\"girl_and_horse.png\")  #(1,3,512,512)   \n",
    "    latent = vae.encode(img).sample()       #(1,4,64,64)\n",
    "    samples = vae.decode(latent)            #(1,3,512,512)\n",
    "    save_image(samples,\"vae.png\")\n",
    "\n",
    "test_vae()"
   ]
  },
  {
   "cell_type": "code",
   "execution_count": null,
   "id": "81b09067",
   "metadata": {},
   "outputs": [],
   "source": []
  }
 ],
 "metadata": {
  "kernelspec": {
   "display_name": "Python 3 (ipykernel)",
   "language": "python",
   "name": "python3"
  },
  "language_info": {
   "codemirror_mode": {
    "name": "ipython",
    "version": 3
   },
   "file_extension": ".py",
   "mimetype": "text/x-python",
   "name": "python",
   "nbconvert_exporter": "python",
   "pygments_lexer": "ipython3",
   "version": "3.8.13"
  }
 },
 "nbformat": 4,
 "nbformat_minor": 5
}
